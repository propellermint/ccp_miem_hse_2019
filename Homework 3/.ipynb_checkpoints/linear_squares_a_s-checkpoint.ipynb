{
 "cells": [
  {
   "cell_type": "markdown",
   "metadata": {},
   "source": [
    "# Linear (ordinary) least squares"
   ]
  },
  {
   "cell_type": "markdown",
   "metadata": {},
   "source": [
    "Suppose we have a set of points $\\left\\{ (x_i, y_i), i = 1, \\ldots, n \\right\\}$ and a functional form $f(x, \\vec \\beta)$, where $\\vec \\beta$ is a vector of parameters."
   ]
  },
  {
   "cell_type": "markdown",
   "metadata": {},
   "source": [
    "Then, *least squares approximation* is a problem of finding $\\vec \\beta$ by minimising function\n",
    "$$ \\xi (\\vec \\beta) = \\sum\\limits_{i = 1}^n \\left| y_i - f(x_i, \\vec \\beta) \\right|^2 $$"
   ]
  },
  {
   "cell_type": "markdown",
   "metadata": {},
   "source": [
    "Least squares approximation becomes *linear (or ordinary)* when we assume that $f(x, \\vec \\beta)$ is a linear function of $\\vec \\beta$: \n",
    "$$f(x, \\vec \\beta) = \\sum \\limits_{j = 1}^m \\beta_j \\varphi_j (x),$$\n",
    "where $\\varphi_j (x)$ are called basis functions which do not need to be linear ($x^k$, $e^{i \\alpha_k x}$ etc.)."
   ]
  },
  {
   "cell_type": "markdown",
   "metadata": {},
   "source": [
    "We minimize with respect to $\\vec \\beta$\n",
    "$$ \\xi (\\vec \\beta) = \\sum\\limits_{i = 1}^n \\left| y_i - \\left( \\beta_1 \\varphi_1(x) + \\ldots + \\beta_m \\varphi_m(x) \\right) \\right|^2 .$$\n",
    "It can be represented as \n",
    "$$\\xi (\\vec \\beta) = || \\vec y - A \\vec \\beta ||^2,$$\n",
    "if we suppose that a vector norm $||\\vec a|| = \\sqrt{\\sum\\limits_{i = 1}^n |a_i|^2}$ and *the design matrix*\n",
    "$$ A = \\begin{pmatrix} \n",
    "            \\varphi_1(x_1) & \\varphi_2(x_1) & \\ldots & \\varphi_m(x_1) \\\\\n",
    "            \\varphi_1(x_2) & \\varphi_2(x_2) & \\ldots & \\varphi_m(x_2) \\\\\n",
    "            \\vdots & \\vdots & \\ddots & \\vdots \\\\\n",
    "            \\varphi_1(x_n) & \\varphi_2(x_n) & \\ldots & \\varphi_m(x_n) \\\\\n",
    "        \\end{pmatrix}.$$"
   ]
  },
  {
   "cell_type": "markdown",
   "metadata": {},
   "source": [
    "To minimize $\\xi (\\vec \\beta)$ we set \n",
    "$$\\cfrac{\\partial}{\\partial \\beta_k} \\xi (\\vec \\beta) = 0, \\; k = 1, \\ldots, m, $$\n",
    "and obtain *the normal equation*\n",
    "$$A^T A \\vec \\beta = A^T \\vec y.$$"
   ]
  },
  {
   "cell_type": "markdown",
   "metadata": {},
   "source": [
    "If $A$ is poorly conditioned, then solving this matrix equation becomes a big problem. In this case QR decomposition of $A$ is often used. The design matrix can be represented as \n",
    "$$A = Q \\cdot R,$$\n",
    "where $Q$ is orthoginal ($Q^T Q = 1$), and $R$ is upper triangular."
   ]
  },
  {
   "cell_type": "markdown",
   "metadata": {},
   "source": [
    "Since $m < n$ last $n-m$ rows of $R$ are zero:\n",
    "$$A = Q \\cdot \\begin{pmatrix} \n",
    "                    R_1 \\\\\n",
    "                    0 \\\\\n",
    "                \\end{pmatrix}.$$\n",
    "Recall tht matrix $Q$ is a rotation operator, and introduced norm of a vector is invariant to rotation. Then, we rotate the residual $\\vec y - A \\vec \\beta$:\n",
    "$$\\xi (\\vec \\beta) = || \\vec y - A \\vec \\beta ||^2 = || Q^T \\left( \\vec y - A \\vec \\beta \\right) ||^2 = || Q^T \\vec y - \\begin{pmatrix} \n",
    "    R_1 \\\\\n",
    "    0 \\\\\n",
    "\\end{pmatrix} \\vec \\beta ||^2. $$"
   ]
  },
  {
   "cell_type": "markdown",
   "metadata": {},
   "source": [
    "Let us write \n",
    "$$Q^T \\vec y = \\begin{pmatrix} \n",
    "                    \\vec f \\\\\n",
    "                    \\vec r \\\\\n",
    "                \\end{pmatrix},$$\n",
    "where $\\mbox{dim} \\vec f = m$.\n",
    "\n",
    "This way,\n",
    "$$\\xi ( \\vec \\beta ) = ||\\vec f - R_1 \\vec \\beta||^2 + ||\\vec r||^2 \\rightarrow \\min \\Leftrightarrow R_1 \\vec \\beta = \\vec f.$$\n",
    "\n",
    "The last equation is solved by back substitution."
   ]
  },
  {
   "cell_type": "markdown",
   "metadata": {},
   "source": [
    "## Task"
   ]
  },
  {
   "cell_type": "markdown",
   "metadata": {},
   "source": [
    "Let the basis function be $x^k, \\; k = 0, \\ldots, m$. Write function that finds $\\vec \\beta$ for $m = 1, 2, 3$."
   ]
  },
  {
   "cell_type": "code",
   "execution_count": 42,
   "metadata": {},
   "outputs": [
    {
     "name": "stdout",
     "output_type": "stream",
     "text": [
      "[0 1 2 3 4 5 6 7 8 9]\n",
      "[[0]\n",
      " [0]\n",
      " [0]\n",
      " [0]\n",
      " [0]\n",
      " [0]\n",
      " [0]\n",
      " [0]\n",
      " [0]\n",
      " [0]]\n",
      "[[1]\n",
      " [1]\n",
      " [1]\n",
      " [1]\n",
      " [1]\n",
      " [1]\n",
      " [1]\n",
      " [1]\n",
      " [1]\n",
      " [1]]\n"
     ]
    },
    {
     "data": {
      "image/png": "[encoded data removed]",
      "text/plain": [
       "<Figure size 1080x720 with 1 Axes>"
      ]
     },
     "metadata": {
      "needs_background": "light"
     },
     "output_type": "display_data"
    },
    {
     "name": "stdout",
     "output_type": "stream",
     "text": [
      "\n",
      " beta =  0.0\n",
      "\n",
      " c =  1.0\n"
     ]
    },
    {
     "data": {
      "image/png": "[encoded data removed]",
      "text/plain": [
       "<Figure size 1080x720 with 1 Axes>"
      ]
     },
     "metadata": {
      "needs_background": "light"
     },
     "output_type": "display_data"
    },
    {
     "name": "stdout",
     "output_type": "stream",
     "text": [
      "(0.0, 1.0)\n"
     ]
    }
   ],
   "source": [
    "import numpy as np \n",
    "import matplotlib.pyplot as plt\n",
    "%matplotlib inline \n",
    "\n",
    "def lsq(m):\n",
    "    xdata = np.arange(0, 10)\n",
    "    xdata = np.asarray(xdata)\n",
    "    print(xdata)\n",
    "    ydata = np.array([[0] * m for i in range(len(xdata))])\n",
    "    print(ydata)\n",
    "\n",
    "\n",
    "\n",
    "    def f(x, m):\n",
    "        for i in range(len(xdata)):\n",
    "            for j in range(m):\n",
    "\n",
    "                ydata[i, j] = xdata[i]**j\n",
    "\n",
    "        return ydata\n",
    "\n",
    "\n",
    "    ydata = f(xdata, m)\n",
    "    x_mean = np.mean(xdata)\n",
    "    y_mean = np.mean(ydata)\n",
    "    print(ydata)\n",
    "\n",
    "    def least_squares(m, xdata, ydata):\n",
    "        beta = np.zeros_like(ydata)\n",
    "        num = 0\n",
    "        den = 0\n",
    "        for i in range(len(xdata)):\n",
    "            beta = 0\n",
    "            for j in range(m):\n",
    "                num += (xdata[i] - x_mean) * (ydata[i, j] - y_mean)\n",
    "                den += (xdata[i] - x_mean)**2\n",
    "            beta = num / den\n",
    "            c = y_mean - beta * x_mean\n",
    "        print('\\n beta = ', beta)\n",
    "        print('\\n c = ', c)\n",
    "        return beta, c\n",
    "\n",
    "\n",
    "\n",
    "\n",
    "\n",
    "    # initial plot\n",
    "    plt.figure(figsize=(15,10))\n",
    "    plt.plot(xdata, ydata, 'x', label='Original data', markersize=8, color='blue') # predicted\n",
    "    plt.grid(True)\n",
    "    plt.legend()\n",
    "    plt.show()\n",
    "\n",
    "\n",
    "\n",
    "    beta, c = least_squares(m, xdata, ydata)   \n",
    "    y_approx = beta * xdata + c\n",
    "\n",
    "    plt.figure(figsize=(15,10))\n",
    "    plt.plot([min(xdata), max(xdata)], [min(y_approx), max(y_approx)], label = 'linear least squares', color='black')\n",
    "    plt.plot(xdata, ydata, 'x', label='Original data', markersize=8, color='blue') # predicted\n",
    "    plt.grid(True)\n",
    "    plt.legend()\n",
    "    plt.show()\n",
    "    return beta, c\n",
    "\n",
    "print(lsq(1))"
   ]
  },
  {
   "cell_type": "markdown",
   "metadata": {},
   "source": [
    "Now implement your function to approximate real data."
   ]
  },
  {
   "cell_type": "code",
   "execution_count": 96,
   "metadata": {},
   "outputs": [
    {
     "data": {
      "image/png": "[encoded data removed]",
      "text/plain": [
       "<Figure size 432x288 with 1 Axes>"
      ]
     },
     "metadata": {
      "needs_background": "light"
     },
     "output_type": "display_data"
    }
   ],
   "source": [
    "from sklearn import datasets\n",
    "import numpy as np\n",
    "import matplotlib.pyplot as plt\n",
    "from numpy.linalg import inv\n",
    "%matplotlib inline\n",
    "\n",
    "\n",
    "def least_squares_real(m, xdata, ydata):\n",
    "    beta = np.zeros_like(ydata)\n",
    "    num = 0\n",
    "    den = 0\n",
    "    for i in range(len(xdata)):\n",
    "        beta = 0\n",
    "        for j in range(m):\n",
    "            num += (xdata[i] - x_mean) * (ydata[i] - y_mean)\n",
    "            den += (xdata[i] - x_mean)**2\n",
    "        beta = num / den\n",
    "        c = y_mean - beta * x_mean\n",
    "    print('\\n beta = ', beta)\n",
    "    print('\\n c = ', c)\n",
    "    return beta, c\n",
    "\n",
    "diabetes = datasets.load_iris()\n",
    "X = diabetes.data\n",
    "y = diabetes.target\n",
    "\n",
    "ydata = X[:100,-1]\n",
    "xdata = X[:100,0]\n",
    "\n",
    "x_mean = np.mean(xdata)\n",
    "y_mean = np.mean(ydata)\n",
    "\n",
    "plt.plot(xdata, ydata, 'x', label='Original data', markersize=8)\n",
    "plt.grid(True)\n",
    "plt.legend()\n",
    "plt.show()"
   ]
  },
  {
   "cell_type": "markdown",
   "metadata": {},
   "source": [
    "Plot the resulting functions."
   ]
  },
  {
   "cell_type": "code",
   "execution_count": 97,
   "metadata": {},
   "outputs": [
    {
     "name": "stdout",
     "output_type": "stream",
     "text": [
      "\n",
      " beta =  0.6954194559668757\n",
      "\n",
      " c =  -3.0186398435947774\n"
     ]
    },
    {
     "data": {
      "image/png": "[encoded data removed]",
      "text/plain": [
       "<Figure size 1080x720 with 1 Axes>"
      ]
     },
     "metadata": {
      "needs_background": "light"
     },
     "output_type": "display_data"
    }
   ],
   "source": [
    "beta, c = least_squares_real(10, xdata, ydata)   \n",
    "y_approx = beta * xdata + c\n",
    "\n",
    "plt.figure(figsize=(15,10))\n",
    "plt.plot([min(xdata), max(xdata)], [min(y_approx), max(y_approx)], label = 'linear least squares', color='black')\n",
    "plt.plot(xdata, ydata, 'x', label='Original data', markersize=8, color='blue') # predicted\n",
    "plt.grid(True)\n",
    "plt.legend()\n",
    "plt.show()"
   ]
  },
  {
   "cell_type": "markdown",
   "metadata": {},
   "source": [
    "Output the comma-separated list of coefficients before $x$. You will need this for Google Form."
   ]
  },
  {
   "cell_type": "code",
   "execution_count": 133,
   "metadata": {},
   "outputs": [
    {
     "name": "stdout",
     "output_type": "stream",
     "text": [
      "[[5.1]\n",
      " [4.9]\n",
      " [4.7]\n",
      " [4.6]\n",
      " [5. ]\n",
      " [5.4]\n",
      " [4.6]\n",
      " [5. ]\n",
      " [4.4]\n",
      " [4.9]\n",
      " [5.4]\n",
      " [4.8]\n",
      " [4.8]\n",
      " [4.3]\n",
      " [5.8]\n",
      " [5.7]\n",
      " [5.4]\n",
      " [5.1]\n",
      " [5.7]\n",
      " [5.1]\n",
      " [5.4]\n",
      " [5.1]\n",
      " [4.6]\n",
      " [5.1]\n",
      " [4.8]\n",
      " [5. ]\n",
      " [5. ]\n",
      " [5.2]\n",
      " [5.2]\n",
      " [4.7]\n",
      " [4.8]\n",
      " [5.4]\n",
      " [5.2]\n",
      " [5.5]\n",
      " [4.9]\n",
      " [5. ]\n",
      " [5.5]\n",
      " [4.9]\n",
      " [4.4]\n",
      " [5.1]\n",
      " [5. ]\n",
      " [4.5]\n",
      " [4.4]\n",
      " [5. ]\n",
      " [5.1]\n",
      " [4.8]\n",
      " [5.1]\n",
      " [4.6]\n",
      " [5.3]\n",
      " [5. ]\n",
      " [7. ]\n",
      " [6.4]\n",
      " [6.9]\n",
      " [5.5]\n",
      " [6.5]\n",
      " [5.7]\n",
      " [6.3]\n",
      " [4.9]\n",
      " [6.6]\n",
      " [5.2]\n",
      " [5. ]\n",
      " [5.9]\n",
      " [6. ]\n",
      " [6.1]\n",
      " [5.6]\n",
      " [6.7]\n",
      " [5.6]\n",
      " [5.8]\n",
      " [6.2]\n",
      " [5.6]\n",
      " [5.9]\n",
      " [6.1]\n",
      " [6.3]\n",
      " [6.1]\n",
      " [6.4]\n",
      " [6.6]\n",
      " [6.8]\n",
      " [6.7]\n",
      " [6. ]\n",
      " [5.7]\n",
      " [5.5]\n",
      " [5.5]\n",
      " [5.8]\n",
      " [6. ]\n",
      " [5.4]\n",
      " [6. ]\n",
      " [6.7]\n",
      " [6.3]\n",
      " [5.6]\n",
      " [5.5]\n",
      " [5.5]\n",
      " [6.1]\n",
      " [5.8]\n",
      " [5. ]\n",
      " [5.6]\n",
      " [5.7]\n",
      " [5.7]\n",
      " [6.2]\n",
      " [5.1]\n",
      " [5.7]]\n",
      "[0.15108027]\n"
     ]
    }
   ],
   "source": [
    "coefs = []\n",
    "\n",
    "'''for m in range(1, 4):\n",
    "    coefs.append(str(lsq(m)[1]))\n",
    "    \n",
    "print(\",\".join(coefs))'''\n",
    "x = [[xdata[i]] for i in range(len(xdata))]\n",
    "x = np.asarray(x)\n",
    "print(x)\n",
    "coeffs = inv(x.transpose().dot(x)).dot(x.transpose()).dot(ydata)\n",
    "print(coeffs)"
   ]
  },
  {
   "cell_type": "markdown",
   "metadata": {},
   "source": [
    "Output the comma-separated list of average quadratic deviations. You will need this for Google Form.\n",
    "\n",
    "*Reminder*: Average quadratic deviation = $\\cfrac{1}{n} \\sum\\limits_{i = 1}^{n} \\left| y_i - f(x_i, \\vec \\beta) \\right|^2 $, where $n$ is the number of observations."
   ]
  },
  {
   "cell_type": "code",
   "execution_count": null,
   "metadata": {},
   "outputs": [],
   "source": [
    "aqds = []\n",
    "\n",
    "for m in range(1, 4):\n",
    "    cur_aqd = # ... \n",
    "    \n",
    "    aqds.append(str(cur_aqd))\n",
    "    \n",
    "print(\",\".join(aqds))"
   ]
  }
 ],
 "metadata": {
  "kernelspec": {
   "display_name": "Python 3",
   "language": "python",
   "name": "python3"
  },
  "language_info": {
   "codemirror_mode": {
    "name": "ipython",
    "version": 3
   },
   "file_extension": ".py",
   "mimetype": "text/x-python",
   "name": "python",
   "nbconvert_exporter": "python",
   "pygments_lexer": "ipython3",
   "version": "3.7.3"
  }
 },
 "nbformat": 4,
 "nbformat_minor": 2
}
