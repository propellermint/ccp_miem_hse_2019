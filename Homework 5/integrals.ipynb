{
 "cells": [
  {
   "cell_type": "markdown",
   "metadata": {
    "slideshow": {
     "slide_type": "slide"
    }
   },
   "source": [
    "# Интегрирование функций"
   ]
  },
  {
   "cell_type": "markdown",
   "metadata": {},
   "source": [
    "Постановка задачи: вычислить определенный интеграл \n",
    "\n",
    "$$\n",
    "\\int_a^{b} f(x)\\, dx\n",
    "$$\n",
    "\n",
    "для данной функции $f(x)$ в заданных пределах от $a$ до $b$."
   ]
  },
  {
   "cell_type": "code",
   "execution_count": 1,
   "metadata": {
    "slideshow": {
     "slide_type": "slide"
    }
   },
   "outputs": [],
   "source": [
    "import numpy as np\n",
    "import matplotlib.pyplot as plt\n",
    "import heapq\n",
    "%matplotlib inline"
   ]
  },
  {
   "cell_type": "code",
   "execution_count": 2,
   "metadata": {
    "slideshow": {
     "slide_type": "slide"
    }
   },
   "outputs": [],
   "source": [
    "def f(x):\n",
    "    return (x - 1)**3 + 0.5"
   ]
  },
  {
   "cell_type": "code",
   "execution_count": 3,
   "metadata": {},
   "outputs": [
    {
     "data": {
      "text/plain": [
       "<matplotlib.lines.Line2D at 0x1a3e396cbe0>"
      ]
     },
     "execution_count": 3,
     "metadata": {},
     "output_type": "execute_result"
    },
    {
     "data": {
      "image/png": "[encoded data removed]",
      "text/plain": [
       "<Figure size 432x288 with 1 Axes>"
      ]
     },
     "metadata": {
      "needs_background": "light"
     },
     "output_type": "display_data"
    }
   ],
   "source": [
    "xx = np.linspace(-0.5, 2.5, 41)\n",
    "\n",
    "a, b = -0.4, 2.1\n",
    "\n",
    "xxx = xx[(a < xx) & (xx < b)]\n",
    "plt.fill_between(xxx, f(xxx), alpha=0.7, color='m')\n",
    "plt.axvline(0, ls='--', lw=1); plt.axhline(0, ls='--', lw=1)"
   ]
  },
  {
   "cell_type": "markdown",
   "metadata": {
    "slideshow": {
     "slide_type": "slide"
    }
   },
   "source": [
    "## Использование библиотеки SciPy"
   ]
  },
  {
   "cell_type": "code",
   "execution_count": 4,
   "metadata": {},
   "outputs": [
    {
     "data": {
      "text/plain": [
       "(0.6556250000000003, 1.9706427010952404e-14)"
      ]
     },
     "execution_count": 4,
     "metadata": {},
     "output_type": "execute_result"
    }
   ],
   "source": [
    "from scipy.integrate import quad\n",
    "\n",
    "a, b = -0.4, 2.1\n",
    "quad(f, a, b)"
   ]
  },
  {
   "cell_type": "markdown",
   "metadata": {
    "slideshow": {
     "slide_type": "slide"
    }
   },
   "source": [
    "\n",
    "## Формулы Ньютона-Котеса\n",
    "\n",
    "Рассмотрим разбиение интервала интегрирования\n",
    "\n",
    "$$\n",
    "a = x_0 < x_1 < \\dots < x_{N_1} < x_N = b \\;.\n",
    "$$\n",
    "\n",
    "На каждом *элементарном интервале*, $[x_j, x_{j+1}]$, аппроксимируем значение интеграла. Просуммировав результаты, получаем *составную формулу*, которая в пределе $N\\to\\infty$ дает точное значение интеграла."
   ]
  },
  {
   "cell_type": "markdown",
   "metadata": {
    "slideshow": {
     "slide_type": "slide"
    }
   },
   "source": [
    "Правило *левых прямоугольников*,\n",
    "\n",
    "\n",
    "$$\n",
    "\\int_{x_0}^{x_0 + h} f(x)\\, dx \\approx f(x_0) \\, h\\;,\n",
    "$$\n",
    "\n",
    "является точным для кусочно-постоянных функций. Нетрудно показать, что погрешность составной формулы левых прямоугольников шкалируется линейно с размером шага разбиения, $\\sim 1/N$."
   ]
  },
  {
   "cell_type": "code",
   "execution_count": 5,
   "metadata": {
    "slideshow": {
     "slide_type": "slide"
    }
   },
   "outputs": [],
   "source": [
    "def lrect(f, a, b, npts):\n",
    "    h = (b - a) / npts\n",
    "    summ = 0\n",
    "    for j in range(npts):\n",
    "        x = a + h*j\n",
    "        summ += f(x) * h\n",
    "    return summ"
   ]
  },
  {
   "cell_type": "code",
   "execution_count": 6,
   "metadata": {
    "slideshow": {
     "slide_type": "fragment"
    }
   },
   "outputs": [
    {
     "name": "stdout",
     "output_type": "stream",
     "text": [
      "   10 : -0.0475\n",
      "  100 : -0.004975\n",
      " 1000 : -0.00049975\n",
      "10000 : -4.99975e-05\n"
     ]
    }
   ],
   "source": [
    "for n in (10, 100, 1000, 10000):\n",
    "    res = lrect(lambda x: x**3, 0, 1, n)\n",
    "    print(\"%5.5g : %g\" % (n,  res - 0.25))"
   ]
  },
  {
   "cell_type": "markdown",
   "metadata": {
    "slideshow": {
     "slide_type": "slide"
    }
   },
   "source": [
    "Правило *средних прямоугольников*,\n",
    "\n",
    "$$\n",
    "\\int_{x_0}^{x_0 + h} f(x)\\,dx \\approx f(x_0 + \\frac{h}{2}) \\, h\\;,\n",
    "$$\n",
    "\n",
    "является точным для линейной функции $f(x)$, поэтому погрешность составной формулы $\\sim 1/N^2$.\n",
    "\n",
    "Заметим, что правило средних прямоугольников является примером *открытой* квадратурной формулы, не требующей вычисления значения подинтегральной функции на границах интервала интегрирования."
   ]
  },
  {
   "cell_type": "code",
   "execution_count": 7,
   "metadata": {
    "slideshow": {
     "slide_type": "slide"
    }
   },
   "outputs": [],
   "source": [
    "def crect(f, a, b, npts):\n",
    "    h = (b - a) / npts\n",
    "    summ = 0\n",
    "    for j in range(npts):\n",
    "        x = a + h*(j + 0.5)\n",
    "        summ += f(x)\n",
    "    return summ * h"
   ]
  },
  {
   "cell_type": "code",
   "execution_count": 8,
   "metadata": {
    "slideshow": {
     "slide_type": "fragment"
    }
   },
   "outputs": [
    {
     "name": "stdout",
     "output_type": "stream",
     "text": [
      "   10 : -0.00125\n",
      "  100 : -1.25e-05\n",
      " 1000 : -1.25e-07\n",
      "10000 : -1.25e-09\n"
     ]
    }
   ],
   "source": [
    "for n in (10, 100, 1000, 10000):\n",
    "    print(\"%5.5g : %g\" % (n, crect(lambda x: x**3, 0, 1, n) - 0.25))"
   ]
  },
  {
   "cell_type": "markdown",
   "metadata": {
    "slideshow": {
     "slide_type": "slide"
    }
   },
   "source": [
    "Для построения квадратурных формул высших порядков рассмотрим элементарный интервал $[0, 1]$. (Заметим, что ограничения общности тут нет, т.к. любой интервал $[x_0, x_0 + h]$ линейным преобразованием приводится к интервалу $[0, 1]$).\n",
    "\n",
    "\n",
    "Используем метод неопределенных коэффициентов: Представим значение интеграла как линейную комбинацию значений подынтегральной функции в $k+1$ точках, и подберем коэффициенты так, чтобы результат был бы точным для функций $x^0$, $x^1$, $\\dots$, $x^k$. "
   ]
  },
  {
   "cell_type": "markdown",
   "metadata": {
    "slideshow": {
     "slide_type": "slide"
    }
   },
   "source": [
    "Например, построим трехточечную схему (т.е. *метод Симпсона*).\n",
    "\n",
    "Положим \n",
    "\n",
    "$$\n",
    "\\int_0^1 f(x)\\, dx = a f(x_0) + b f(x_1) + c f(x_2)\\;,\n",
    "$$\n",
    "где $x_0 = 0$, $x_1 = \\dfrac{1}{2}$, $x_2 = 1$ (т.е. $h=\\dfrac{1}{2}$). \n",
    "\n",
    "Подберем коэффициенты $a$, $b$ и $c$ исходя из условий:\n",
    "\n",
    "$$\n",
    "\\begin{matrix}\n",
    "f(x) = 1 :& \\qquad  &1            &= &a + &b + &c \\;, \\\\\n",
    "f(x) = x :& \\qquad  &\\dfrac{1}{2} &= &&\\dfrac{1}{2}b + &c\\;, \\\\\n",
    "f(x) = x^2: &\\qquad &\\dfrac{1}{3} &= &&\\dfrac{1}{4}b + &c \\;.  \n",
    "\\end{matrix}\n",
    "$$\n",
    "\n",
    "В качестве решения имеем $a = c = \\dfrac{1}{6}$ и $b = \\dfrac{2}{3}$. Таким образом\n",
    "\n",
    "$$\n",
    "\\begin{aligned}\n",
    "\\int_0^1 f(x) \\,dx &\\approx \\frac{1}{6} \\left( f_0 + 4 f_1 + f_2 \\right) \\\\\n",
    "                   &= \\frac{1}{3} h \\left(f_0 + 4f_1 + f_2 \\right) \\;.\n",
    "\\end{aligned}\n",
    "$$"
   ]
  },
  {
   "cell_type": "markdown",
   "metadata": {
    "slideshow": {
     "slide_type": "slide"
    }
   },
   "source": [
    "### Метод Ромберга\n",
    "\n",
    "\n",
    "Предположим, что мы вычислили приближение $I_N$ интеграла $I$, такое что\n",
    "\n",
    "$$\n",
    "I_N = I + \\gamma N^{-2} + \\dots\n",
    "$$\n",
    "\n",
    "\n",
    "Тогда\n",
    "\n",
    "$$\n",
    "I^{(1)} = \\frac{4 I_{2N} - I_N}{4 - 1}\n",
    "$$\n",
    "\n",
    "представляет собой улучшенное приближение точного значения интеграла $I$.\n",
    "\n",
    "При вычислении производных мы эту технологию встречали под именем *экстраполяции Ричардсона*."
   ]
  },
  {
   "cell_type": "markdown",
   "metadata": {
    "slideshow": {
     "slide_type": "notes"
    }
   },
   "source": [
    "На этом месте большинство учебников останавливаются. А мы, наоборот, продолжим."
   ]
  },
  {
   "cell_type": "markdown",
   "metadata": {},
   "source": [
    "### Прежде чем приниматься вычислять интеграл, необходимо убедиться, что он существует\n",
    "\n",
    "Например,\n",
    "\n",
    "$$\n",
    "\\int_0^{\\pi^2/4}\\! \\frac{dx}{\\sin{x}}\n",
    "$$"
   ]
  },
  {
   "cell_type": "markdown",
   "metadata": {
    "slideshow": {
     "slide_type": "slide"
    }
   },
   "source": [
    "### Интегрируемые сингулярности\n",
    "\n",
    "\n",
    "Например,\n",
    "\n",
    "$$\n",
    "I = \\int_0^{\\pi^2/4}\\! \\frac{dx}{\\sin{\\sqrt{x}}}\n",
    "$$"
   ]
  },
  {
   "cell_type": "markdown",
   "metadata": {
    "slideshow": {
     "slide_type": "fragment"
    }
   },
   "source": [
    "Прибавим и вычтем член, имеющий такую же особенность на нижнем пределе интегрирования:\n",
    "\n",
    "$$\n",
    "\\begin{aligned}\n",
    "I &= \\int_0^{\\pi^2/4} \\frac{dx}{\\sin{\\sqrt{x}}} \\\\\n",
    "  &= \\int_0^{\\pi^2/4} \\!dx \\left( \\frac{1}{\\sin{\\sqrt{x}}} - \\frac{1}{\\sqrt{x}} + \\frac{1}{\\sqrt{x}} \\right) \\\\\n",
    "  &= \\int_0^{\\pi^2/4} \\!dx \\left( \\frac{1}{\\sin{\\sqrt{x}}} - \\frac{1}{\\sqrt{x}}  \\right)  + \\pi\\;.\n",
    "\\end{aligned}\n",
    "$$\n",
    "\n",
    "Теперь оставшийся интеграл на нижнем пределе регулярен. Следует, однако, обратить внимание на возможную потерю точности при вычислении подынтегральной функции при малых значениях $x$."
   ]
  },
  {
   "cell_type": "markdown",
   "metadata": {
    "slideshow": {
     "slide_type": "slide"
    }
   },
   "source": [
    "## Адаптивные методы\n",
    "\n",
    "\n",
    "Традиционно, методы Ньютона-Котеса формулируются на сетках с постоянным шагом. Если подынтегральная функция имеет резкие пики, равномерная сетка, очевидно, неоптимальна."
   ]
  },
  {
   "cell_type": "code",
   "execution_count": 9,
   "metadata": {
    "slideshow": {
     "slide_type": "subslide"
    }
   },
   "outputs": [],
   "source": [
    "def f(x):\n",
    "    return 1.0 / (1.0 + x)**3"
   ]
  },
  {
   "cell_type": "code",
   "execution_count": 10,
   "metadata": {},
   "outputs": [
    {
     "data": {
      "text/plain": [
       "[<matplotlib.lines.Line2D at 0x1a3e434ecc0>]"
      ]
     },
     "execution_count": 10,
     "metadata": {},
     "output_type": "execute_result"
    },
    {
     "data": {
      "image/png": "[encoded data removed]",
      "text/plain": [
       "<Figure size 432x288 with 1 Axes>"
      ]
     },
     "metadata": {
      "needs_background": "light"
     },
     "output_type": "display_data"
    }
   ],
   "source": [
    "a, b = 0, 3\n",
    "xx = np.linspace(a, b, 21)\n",
    "plt.plot(xx, f(xx))"
   ]
  },
  {
   "cell_type": "markdown",
   "metadata": {
    "slideshow": {
     "slide_type": "slide"
    }
   },
   "source": [
    "### Простейшая идея: \n",
    "\n",
    "Используем метод средних прямоугольников, на каждом шаге разбиваем на две части прямоугольник максимальной площади."
   ]
  },
  {
   "cell_type": "code",
   "execution_count": 11,
   "metadata": {
    "slideshow": {
     "slide_type": "slide"
    }
   },
   "outputs": [
    {
     "data": {
      "text/plain": [
       "Text(0.7, 0.7, 'Step 3.')"
      ]
     },
     "execution_count": 11,
     "metadata": {},
     "output_type": "execute_result"
    },
    {
     "data": {
      "image/png": "[encoded data removed]",
      "text/plain": [
       "<Figure size 432x720 with 3 Axes>"
      ]
     },
     "metadata": {
      "needs_background": "light"
     },
     "output_type": "display_data"
    }
   ],
   "source": [
    "import matplotlib.patches as patches\n",
    "\n",
    "fig, (ax1, ax2, ax3) = plt.subplots(3, 1, figsize=(6, 10))\n",
    "\n",
    "a, b = 0, 2\n",
    "xx = np.linspace(a, b, 101)\n",
    "ax1.plot(xx, f(xx))\n",
    "\n",
    "\n",
    "# two rectangles\n",
    "w, h = (a+b)/2., f((a+b)/4.)\n",
    "ax1.add_patch(patches.Rectangle((0, 0), w, h, color='m', alpha=0.3, lw=5) )\n",
    "ax1.add_patch(patches.Rectangle((w, 0), w, f(3/4*b), color='m', alpha=0.5, lw=5))\n",
    "ax1.text(0.7, 0.7, 'Step 1.', transform=ax1.transAxes, fontsize=22)\n",
    "\n",
    "# three rectangles\n",
    "ax2.plot(xx, f(xx))\n",
    "xs = [0, b/4, b/2]\n",
    "ws = [b/4, b/4, b/2]\n",
    "hs = [f(b/8), f(3*b/8), f(3*b/4)]\n",
    "cs = ['g', 'g', 'm']\n",
    "for j in [2, 1, 0]:\n",
    "    ax2.add_patch(patches.Rectangle((xs[j], 0), ws[j], hs[j], color=cs[j], alpha=0.3, lw=5))\n",
    "ax2.text(0.7, 0.7, 'Step 2.', transform=ax2.transAxes, fontsize=22)\n",
    "    \n",
    "# four rectangles:\n",
    "ax3.plot(xx, f(xx))\n",
    "\n",
    "xs = [0, b/8, b/4, b/2]\n",
    "ws = [b/8, b/8, b/4, b/2]\n",
    "hs = [f(b/16), f(b/8 + b/16), f(3*b/8), f(3*b/4)]\n",
    "cs = ['r', 'r', 'g', 'm']\n",
    "for j in [3, 2, 1, 0]:\n",
    "    ax3.add_patch(patches.Rectangle((xs[j], 0), ws[j], hs[j], color=cs[j], alpha=0.3, lw=5))\n",
    "ax3.text(0.7, 0.7, 'Step 3.', transform=ax3.transAxes, fontsize=22)"
   ]
  },
  {
   "cell_type": "code",
   "execution_count": 12,
   "metadata": {},
   "outputs": [],
   "source": [
    "# A rectangle is (start, width)\n",
    "# A list element is (-weight, (start, width))\n",
    "\n",
    "def make_rect(a, b, f):\n",
    "    \"\"\"Make a rectangle for the interval [a, b]\"\"\"\n",
    "    rect = (a, b-a)\n",
    "    xm = a + rect[1] / 2.\n",
    "    return (-f(xm) * rect[1], rect)\n",
    "    \n",
    "\n",
    "def get_max_elem(lst, key=None):\n",
    "    \"\"\"Find and remove the maximum element from the list.\n",
    "    \n",
    "    Find the max element (according to the parameter `key`, which is a callable),\n",
    "    remove it from the list, and return both the element and the rest.\n",
    "    \"\"\"\n",
    "    if key is None:\n",
    "        # use the identity function\n",
    "        key = lambda x: x\n",
    "    \n",
    "    # find the max element\n",
    "    elem = max(lst, key=key)\n",
    "    \n",
    "    # find its position in the list\n",
    "    idx = lst.index(elem)\n",
    "    \n",
    "    return elem, lst[:idx] + lst[idx+1:]\n",
    "\n",
    "    \n",
    "def adapt_rect_list(f, a, b, npts):\n",
    "    \"\"\"Integrate f(x) from a to b using npts steps of the adaptive algorithm.\n",
    "    \"\"\"\n",
    "    lst = []\n",
    "\n",
    "    # start from a single rectangle\n",
    "    item = make_rect(a, b, f)\n",
    "    lst.append(item)\n",
    "    \n",
    "    # loop\n",
    "    for _ in range(npts):\n",
    "        # get the largest one\n",
    "        rect, lst = get_max_elem(lst, lambda x: -x[0])\n",
    "        w, (start, width) = rect\n",
    "                \n",
    "        # and split it into two halves\n",
    "        c = start + width / 2.\n",
    "        \n",
    "        rect1 = make_rect(start, c, f)\n",
    "        rect2 = make_rect(c, start + width, f)\n",
    "        \n",
    "        lst.append(rect1)\n",
    "        lst.append(rect2)\n",
    "        \n",
    "    # collect the answer\n",
    "    return -sum(w for w, r in lst), lst"
   ]
  },
  {
   "cell_type": "code",
   "execution_count": 13,
   "metadata": {},
   "outputs": [
    {
     "name": "stdout",
     "output_type": "stream",
     "text": [
      "n = 5; res = 0.9552698388347781\n",
      "n = 25; res = 0.9786718962428081\n",
      "n = 125; res = 0.9956502001607699\n",
      "n = 250; res = 0.9959491604791242\n",
      "n = 500; res = 0.9960027891786778\n",
      "n = 1000; res = 0.9997391610745809\n",
      "n = 5000; res = 0.999940521244624\n"
     ]
    }
   ],
   "source": [
    "def f(x):\n",
    "    return np.exp(-x)\n",
    "a, b = 0, 20\n",
    "\n",
    "for n in (5, 25, 125, 250, 500, 1000, 5000):\n",
    "    res, lst = adapt_rect_list(f, a, b, n)\n",
    "    print ('n = ', n, '; res = ', res, sep='')\n"
   ]
  },
  {
   "cell_type": "code",
   "execution_count": 14,
   "metadata": {},
   "outputs": [
    {
     "name": "stdout",
     "output_type": "stream",
     "text": [
      "103 ms ± 2.96 ms per loop (mean ± std. dev. of 7 runs, 10 loops each)\n"
     ]
    }
   ],
   "source": [
    "%timeit adapt_rect_list(f, a, b, npts=1000)"
   ]
  },
  {
   "cell_type": "markdown",
   "metadata": {
    "slideshow": {
     "slide_type": "skip"
    }
   },
   "source": [
    "# Вопросы для практических занятий и самостоятельной работы:\n",
    "\n",
    "1. Написать программу интегрирования заданной функции методом *правых* прямоугольников. Сравнить скорость сходимости метода с методами левых и средних прямоугольников.\n",
    "\n",
    "2. Написать программу интегрирования заданной функции методом Симпсона. Сравнить скорость сходимости метода с методом средних прямоугольников.\n",
    "\n",
    "1. Вычислить интеграл $\\int_0^{\\pi^2/4} dx \\,/ \\sin{\\sqrt{x}}$ прямым вычислением и с вычитанием сингулярности. Обсудить скорость сходимости.\n",
    "\n",
    "2. Разработать программу реализующую интегрирование заданной функции методом средних прямоугольников (или иным методом, на выбор) с адаптивной сеткой. Сравнить скорость сходимости данного метода и метода с равномерной сеткой.\n",
    "*Указание: для выбора \"наибольшего\" интервала используйте модуль `heapq` из стандартной библиотеки. (При использовании языка `C++`, используйте `std::set`).* \n",
    "\n",
    "3. Вычислить зависимость плотности энергии идеального Ферми газа от температуры при фиксированной плотности частиц.\n",
    "\n",
    "4. Вычислить зависимость теплоемкости идеального Бозе-газа от температуры. Обратить особое внимание на область температур вблизи области фазового перехода с появлением Бозе-конденсата.\n",
    "\n",
    "5. При температурах ниже критических, изотермы газа Ван-дер-Ваальса содержат участки постоянного давления, $p(V)=\\mathrm{const}$. Положение данных участков определяется согласно конструкции Максвелла, требующей равенства значений интегралов $\\int p\\,dV$ по участкам изотерм в области сосуществования фаз. Разработать программу, вычисляющую положения горизонтальных участков изотерм для газа Ван-дер-Ваальса.\n"
   ]
  },
  {
   "cell_type": "code",
   "execution_count": 15,
   "metadata": {},
   "outputs": [
    {
     "data": {
      "image/png": "[encoded data removed]",
      "text/plain": [
       "<Figure size 720x504 with 1 Axes>"
      ]
     },
     "metadata": {
      "needs_background": "light"
     },
     "output_type": "display_data"
    }
   ],
   "source": [
    "#  1 question:\n",
    "\n",
    "\n",
    "def ff(x):\n",
    "    return np.exp(-x)\n",
    "\n",
    "\n",
    "a = 0\n",
    "b = 1\n",
    "\n",
    "x = np.linspace(a, b, 200)\n",
    "plt.figure(figsize=(10, 7))\n",
    "plt.plot(x, ff(x), '--', label = '$f(x)$')\n",
    "plt.xlabel('x')\n",
    "plt.ylabel('f(x)')\n",
    "plt.legend()\n",
    "plt.show()"
   ]
  },
  {
   "cell_type": "code",
   "execution_count": 16,
   "metadata": {},
   "outputs": [
    {
     "name": "stdout",
     "output_type": "stream",
     "text": [
      "    1 : 1\n",
      "    2 : 0.803265\n",
      "    3 : 0.743316\n",
      "    4 : 0.714424\n",
      "    5 : 0.697438\n",
      "    6 : 0.68626\n",
      "    7 : 0.678347\n",
      "    8 : 0.672451\n",
      "    9 : 0.667889\n",
      "   10 : 0.664253\n",
      "   11 : 0.661289\n",
      "   12 : 0.658825\n",
      "   13 : 0.656745\n",
      "   14 : 0.654965\n",
      "   15 : 0.653425\n",
      "   16 : 0.65208\n",
      "   17 : 0.650895\n",
      "   18 : 0.649842\n",
      "   19 : 0.648901\n",
      "   20 : 0.648055\n",
      "   21 : 0.64729\n",
      "   22 : 0.646596\n",
      "   23 : 0.645962\n",
      "   24 : 0.645381\n",
      "   25 : 0.644847\n",
      "   26 : 0.644355\n",
      "   27 : 0.643899\n",
      "   28 : 0.643476\n",
      "   29 : 0.643082\n",
      "   30 : 0.642714\n",
      "   31 : 0.642371\n",
      "   32 : 0.642049\n",
      "   33 : 0.641747\n",
      "   34 : 0.641462\n",
      "   35 : 0.641194\n",
      "   36 : 0.640941\n",
      "   37 : 0.640701\n",
      "   38 : 0.640474\n",
      "   39 : 0.640259\n",
      "   40 : 0.640055\n",
      "   41 : 0.639861\n",
      "   42 : 0.639676\n",
      "   43 : 0.639499\n",
      "   44 : 0.639331\n",
      "   45 : 0.63917\n",
      "   46 : 0.639016\n",
      "   47 : 0.638869\n",
      "   48 : 0.638728\n",
      "   49 : 0.638593\n",
      "   50 : 0.638463\n",
      "   51 : 0.638338\n",
      "   52 : 0.638218\n",
      "   53 : 0.638103\n",
      "   54 : 0.637992\n",
      "   55 : 0.637885\n",
      "   56 : 0.637781\n",
      "   57 : 0.637682\n",
      "   58 : 0.637586\n",
      "   59 : 0.637493\n",
      "   60 : 0.637403\n",
      "   61 : 0.637316\n",
      "   62 : 0.637232\n",
      "   63 : 0.637151\n",
      "   64 : 0.637072\n",
      "   65 : 0.636995\n",
      "   66 : 0.636921\n",
      "   67 : 0.63685\n",
      "   68 : 0.63678\n",
      "   69 : 0.636712\n",
      "   70 : 0.636646\n",
      "   71 : 0.636583\n",
      "   72 : 0.63652\n",
      "   73 : 0.63646\n",
      "   74 : 0.636401\n",
      "   75 : 0.636344\n",
      "   76 : 0.636288\n",
      "   77 : 0.636234\n",
      "   78 : 0.636181\n",
      "   79 : 0.63613\n",
      "   80 : 0.63608\n",
      "   81 : 0.636031\n",
      "   82 : 0.635983\n",
      "   83 : 0.635936\n",
      "   84 : 0.635891\n",
      "   85 : 0.635846\n",
      "   86 : 0.635803\n",
      "   87 : 0.63576\n",
      "   88 : 0.635719\n",
      "   89 : 0.635678\n",
      "   90 : 0.635639\n",
      "   91 : 0.6356\n",
      "   92 : 0.635562\n",
      "   93 : 0.635525\n",
      "   94 : 0.635489\n",
      "   95 : 0.635453\n",
      "   96 : 0.635419\n",
      "   97 : 0.635385\n",
      "   98 : 0.635351\n",
      "   99 : 0.635318\n"
     ]
    }
   ],
   "source": [
    "fleft = []\n",
    "\n",
    "\n",
    "xx = np.arange(1, 100, 1)\n",
    "for n in xx:\n",
    "    fleft.append([n, lrect(ff, a, b, n)])\n",
    "    print(\"%5.5g : %g\" % (n, lrect(ff, a, b, n)))"
   ]
  },
  {
   "cell_type": "code",
   "execution_count": 17,
   "metadata": {},
   "outputs": [
    {
     "name": "stdout",
     "output_type": "stream",
     "text": [
      "    1 : 0.606531\n",
      "   11 : 0.631903\n",
      "   21 : 0.632061\n",
      "   31 : 0.632093\n",
      "   41 : 0.632105\n",
      "   51 : 0.63211\n",
      "   61 : 0.632113\n",
      "   71 : 0.632115\n",
      "   81 : 0.632117\n",
      "   91 : 0.632117\n",
      "  101 : 0.632118\n",
      "  111 : 0.632118\n",
      "  121 : 0.632119\n",
      "  131 : 0.632119\n",
      "  141 : 0.632119\n",
      "  151 : 0.632119\n",
      "  161 : 0.63212\n",
      "  171 : 0.63212\n",
      "  181 : 0.63212\n",
      "  191 : 0.63212\n",
      "  201 : 0.63212\n",
      "  211 : 0.63212\n",
      "  221 : 0.63212\n",
      "  231 : 0.63212\n",
      "  241 : 0.63212\n",
      "  251 : 0.63212\n",
      "  261 : 0.63212\n",
      "  271 : 0.63212\n",
      "  281 : 0.63212\n",
      "  291 : 0.63212\n",
      "  301 : 0.63212\n",
      "  311 : 0.63212\n",
      "  321 : 0.63212\n",
      "  331 : 0.63212\n",
      "  341 : 0.63212\n",
      "  351 : 0.63212\n",
      "  361 : 0.63212\n",
      "  371 : 0.63212\n",
      "  381 : 0.63212\n",
      "  391 : 0.63212\n",
      "  401 : 0.63212\n",
      "  411 : 0.63212\n",
      "  421 : 0.63212\n",
      "  431 : 0.63212\n",
      "  441 : 0.63212\n",
      "  451 : 0.63212\n",
      "  461 : 0.63212\n",
      "  471 : 0.63212\n",
      "  481 : 0.63212\n",
      "  491 : 0.63212\n",
      "  501 : 0.63212\n",
      "  511 : 0.63212\n",
      "  521 : 0.63212\n",
      "  531 : 0.63212\n",
      "  541 : 0.63212\n",
      "  551 : 0.63212\n",
      "  561 : 0.63212\n",
      "  571 : 0.63212\n",
      "  581 : 0.63212\n",
      "  591 : 0.63212\n",
      "  601 : 0.63212\n",
      "  611 : 0.63212\n",
      "  621 : 0.63212\n",
      "  631 : 0.63212\n",
      "  641 : 0.63212\n",
      "  651 : 0.63212\n",
      "  661 : 0.63212\n",
      "  671 : 0.632121\n",
      "  681 : 0.632121\n",
      "  691 : 0.632121\n",
      "  701 : 0.632121\n",
      "  711 : 0.632121\n",
      "  721 : 0.632121\n",
      "  731 : 0.632121\n",
      "  741 : 0.632121\n",
      "  751 : 0.632121\n",
      "  761 : 0.632121\n",
      "  771 : 0.632121\n",
      "  781 : 0.632121\n",
      "  791 : 0.632121\n",
      "  801 : 0.632121\n",
      "  811 : 0.632121\n",
      "  821 : 0.632121\n",
      "  831 : 0.632121\n",
      "  841 : 0.632121\n",
      "  851 : 0.632121\n",
      "  861 : 0.632121\n",
      "  871 : 0.632121\n",
      "  881 : 0.632121\n",
      "  891 : 0.632121\n",
      "  901 : 0.632121\n",
      "  911 : 0.632121\n",
      "  921 : 0.632121\n",
      "  931 : 0.632121\n",
      "  941 : 0.632121\n",
      "  951 : 0.632121\n",
      "  961 : 0.632121\n",
      "  971 : 0.632121\n",
      "  981 : 0.632121\n",
      "  991 : 0.632121\n"
     ]
    }
   ],
   "source": [
    "fcent = []\n",
    "\n",
    "xx = np.arange(1, 1000, 10)\n",
    "for n in xx:\n",
    "    fcent.append([n, crect(ff, a, b, n)])\n",
    "    print(\"%5.5g : %g\" % (n, crect(ff, a, b, n)))"
   ]
  },
  {
   "cell_type": "code",
   "execution_count": 18,
   "metadata": {},
   "outputs": [
    {
     "name": "stdout",
     "output_type": "stream",
     "text": [
      "    1 : 0.367879\n",
      "   11 : 0.603823\n",
      "   21 : 0.61719\n",
      "   31 : 0.62198\n",
      "   41 : 0.624443\n",
      "   51 : 0.625944\n",
      "   61 : 0.626953\n",
      "   71 : 0.627679\n",
      "   81 : 0.628227\n",
      "   91 : 0.628654\n",
      "  101 : 0.628996\n",
      "  111 : 0.629277\n",
      "  121 : 0.629512\n",
      "  131 : 0.629711\n",
      "  141 : 0.629882\n",
      "  151 : 0.63003\n",
      "  161 : 0.630159\n",
      "  171 : 0.630274\n",
      "  181 : 0.630376\n",
      "  191 : 0.630467\n",
      "  201 : 0.630549\n",
      "  211 : 0.630624\n",
      "  221 : 0.630692\n",
      "  231 : 0.630753\n",
      "  241 : 0.63081\n",
      "  251 : 0.630862\n",
      "  261 : 0.63091\n",
      "  271 : 0.630955\n",
      "  281 : 0.630996\n",
      "  291 : 0.631035\n",
      "  301 : 0.631071\n",
      "  311 : 0.631105\n",
      "  321 : 0.631136\n",
      "  331 : 0.631166\n",
      "  341 : 0.631194\n",
      "  351 : 0.631221\n",
      "  361 : 0.631245\n",
      "  371 : 0.631269\n",
      "  381 : 0.631291\n",
      "  391 : 0.631313\n",
      "  401 : 0.631333\n",
      "  411 : 0.631352\n",
      "  421 : 0.63137\n",
      "  431 : 0.631388\n",
      "  441 : 0.631404\n",
      "  451 : 0.63142\n",
      "  461 : 0.631435\n",
      "  471 : 0.63145\n",
      "  481 : 0.631464\n",
      "  491 : 0.631477\n",
      "  501 : 0.63149\n",
      "  511 : 0.631502\n",
      "  521 : 0.631514\n",
      "  531 : 0.631526\n",
      "  541 : 0.631537\n",
      "  551 : 0.631547\n",
      "  561 : 0.631557\n",
      "  571 : 0.631567\n",
      "  581 : 0.631577\n",
      "  591 : 0.631586\n",
      "  601 : 0.631595\n",
      "  611 : 0.631603\n",
      "  621 : 0.631612\n",
      "  631 : 0.63162\n",
      "  641 : 0.631628\n",
      "  651 : 0.631635\n",
      "  661 : 0.631643\n",
      "  671 : 0.63165\n",
      "  681 : 0.631657\n",
      "  691 : 0.631663\n",
      "  701 : 0.63167\n",
      "  711 : 0.631676\n",
      "  721 : 0.631682\n",
      "  731 : 0.631688\n",
      "  741 : 0.631694\n",
      "  751 : 0.6317\n",
      "  761 : 0.631705\n",
      "  771 : 0.631711\n",
      "  781 : 0.631716\n",
      "  791 : 0.631721\n",
      "  801 : 0.631726\n",
      "  811 : 0.631731\n",
      "  821 : 0.631736\n",
      "  831 : 0.63174\n",
      "  841 : 0.631745\n",
      "  851 : 0.631749\n",
      "  861 : 0.631754\n",
      "  871 : 0.631758\n",
      "  881 : 0.631762\n",
      "  891 : 0.631766\n",
      "  901 : 0.63177\n",
      "  911 : 0.631774\n",
      "  921 : 0.631777\n",
      "  931 : 0.631781\n",
      "  941 : 0.631785\n",
      "  951 : 0.631788\n",
      "  961 : 0.631792\n",
      "  971 : 0.631795\n",
      "  981 : 0.631798\n",
      "  991 : 0.631802\n"
     ]
    }
   ],
   "source": [
    "def rrect(f, a, b, npts):\n",
    "    h = (b - a) / npts\n",
    "    summ = 0\n",
    "    for j in range(npts):\n",
    "        x = a + h * (j + 1)\n",
    "        summ += f(x) * h\n",
    "    return summ\n",
    "\n",
    "\n",
    "fright = []\n",
    "\n",
    "\n",
    "xx = np.arange(1, 1000, 10)\n",
    "for n in xx:\n",
    "    fright.append([n, rrect(ff, a, b, n)])\n",
    "    print(\"%5.5g : %g\" % (n, rrect(ff, a, b, n)))"
   ]
  },
  {
   "cell_type": "code",
   "execution_count": 19,
   "metadata": {},
   "outputs": [
    {
     "data": {
      "text/plain": [
       "<matplotlib.legend.Legend at 0x1a3e4890cf8>"
      ]
     },
     "execution_count": 19,
     "metadata": {},
     "output_type": "execute_result"
    },
    {
     "data": {
      "image/png": "[encoded data removed]",
      "text/plain": [
       "<Figure size 720x504 with 1 Axes>"
      ]
     },
     "metadata": {
      "needs_background": "light"
     },
     "output_type": "display_data"
    }
   ],
   "source": [
    "plt.figure(figsize=(10, 7))\n",
    "plt.grid()\n",
    "plt.title('Integrate pressicion', fontsize=30)\n",
    "plt.xlabel('number of steps', fontsize = 20)\n",
    "plt.ylabel('pressicion', fontsize = 20)\n",
    "plt.loglog(xx, [lrect(f, a, b, h) for h in xx], label = 'left rect')\n",
    "plt.loglog(xx, [crect(f, a, b, h) for h in xx], label = 'center rect')\n",
    "plt.loglog(xx, [rrect(f, a, b, h) for h in xx], label = 'right rect')\n",
    "plt.legend()"
   ]
  },
  {
   "cell_type": "code",
   "execution_count": 20,
   "metadata": {},
   "outputs": [
    {
     "name": "stdout",
     "output_type": "stream",
     "text": [
      "    1 : 0.45596\n",
      "   11 : 0.596049\n",
      "   21 : 0.613894\n",
      "   31 : 0.61993\n",
      "   41 : 0.622964\n",
      "   51 : 0.624788\n",
      "   61 : 0.626007\n",
      "   71 : 0.626878\n",
      "   81 : 0.627532\n",
      "   91 : 0.628041\n",
      "  101 : 0.628448\n",
      "  111 : 0.628781\n",
      "  121 : 0.629059\n",
      "  131 : 0.629294\n",
      "  141 : 0.629496\n",
      "  151 : 0.629671\n",
      "  161 : 0.629824\n",
      "  171 : 0.629959\n",
      "  181 : 0.630079\n",
      "  191 : 0.630186\n",
      "  201 : 0.630283\n",
      "  211 : 0.63037\n",
      "  221 : 0.63045\n",
      "  231 : 0.630522\n",
      "  241 : 0.630589\n",
      "  251 : 0.63065\n",
      "  261 : 0.630707\n",
      "  271 : 0.630759\n",
      "  281 : 0.630807\n",
      "  291 : 0.630853\n",
      "  301 : 0.630895\n",
      "  311 : 0.630934\n",
      "  321 : 0.630972\n",
      "  331 : 0.631006\n",
      "  341 : 0.631039\n",
      "  351 : 0.63107\n",
      "  361 : 0.631099\n",
      "  371 : 0.631127\n",
      "  381 : 0.631153\n",
      "  391 : 0.631178\n",
      "  401 : 0.631201\n",
      "  411 : 0.631224\n",
      "  421 : 0.631245\n",
      "  431 : 0.631265\n",
      "  441 : 0.631285\n",
      "  451 : 0.631303\n",
      "  461 : 0.631321\n",
      "  471 : 0.631338\n",
      "  481 : 0.631354\n",
      "  491 : 0.63137\n",
      "  501 : 0.631385\n",
      "  511 : 0.631399\n",
      "  521 : 0.631413\n",
      "  531 : 0.631427\n",
      "  541 : 0.63144\n",
      "  551 : 0.631452\n",
      "  561 : 0.631464\n",
      "  571 : 0.631475\n",
      "  581 : 0.631486\n",
      "  591 : 0.631497\n",
      "  601 : 0.631508\n",
      "  611 : 0.631518\n",
      "  621 : 0.631527\n",
      "  631 : 0.631537\n",
      "  641 : 0.631546\n",
      "  651 : 0.631555\n",
      "  661 : 0.631563\n",
      "  671 : 0.631572\n",
      "  681 : 0.63158\n",
      "  691 : 0.631588\n",
      "  701 : 0.631595\n",
      "  711 : 0.631603\n",
      "  721 : 0.63161\n",
      "  731 : 0.631617\n",
      "  741 : 0.631624\n",
      "  751 : 0.63163\n",
      "  761 : 0.631637\n",
      "  771 : 0.631643\n",
      "  781 : 0.631649\n",
      "  791 : 0.631655\n",
      "  801 : 0.631661\n",
      "  811 : 0.631666\n",
      "  821 : 0.631672\n",
      "  831 : 0.631677\n",
      "  841 : 0.631683\n",
      "  851 : 0.631688\n",
      "  861 : 0.631693\n",
      "  871 : 0.631698\n",
      "  881 : 0.631703\n",
      "  891 : 0.631707\n",
      "  901 : 0.631712\n",
      "  911 : 0.631716\n",
      "  921 : 0.631721\n",
      "  931 : 0.631725\n",
      "  941 : 0.631729\n",
      "  951 : 0.631733\n",
      "  961 : 0.631737\n",
      "  971 : 0.631741\n",
      "  981 : 0.631745\n",
      "  991 : 0.631749\n"
     ]
    }
   ],
   "source": [
    "#  question 2\n",
    "\n",
    "def simps(f, a, b, npts):\n",
    "    h = (b - a)/n # need to cast 'n' as float in order to avoid\n",
    "    # integer division\n",
    "    sum1 = 0\n",
    "    for i in range(1, int(n/2) + 1):\n",
    "        sum1 += f(a + (2*i - 1)*h)\n",
    "    sum1 *= 4\n",
    "    sum2 = 0\n",
    "    for i in range(1, int(n/2)): # range must be ints: range() integer \n",
    "    #end argument expected, got float.\n",
    "        sum2 += f(a + 2*i*h)\n",
    "    sum2 *= 2\n",
    "    approx = (b - a)/(3.0*n)*(f(a) + f(b) + sum1 + sum2)\n",
    "    return approx\n",
    "\n",
    "\n",
    "\n",
    "for n in xx:\n",
    "    print(\"%5.5g : %g\" % (n, simps(ff, a, b, n)))\n",
    "    \n"
   ]
  },
  {
   "cell_type": "code",
   "execution_count": 21,
   "metadata": {},
   "outputs": [
    {
     "data": {
      "text/plain": [
       "<matplotlib.legend.Legend at 0x1a3e47d7f98>"
      ]
     },
     "execution_count": 21,
     "metadata": {},
     "output_type": "execute_result"
    },
    {
     "data": {
      "image/png": "[encoded data removed]",
      "text/plain": [
       "<Figure size 720x504 with 1 Axes>"
      ]
     },
     "metadata": {
      "needs_background": "light"
     },
     "output_type": "display_data"
    }
   ],
   "source": [
    "plt.figure(figsize=(10, 7))\n",
    "plt.grid()\n",
    "plt.title('Integrate pressicion', fontsize=30)\n",
    "plt.xlabel('number of steps', fontsize = 20)\n",
    "plt.ylabel('pressicion', fontsize = 20)\n",
    "plt.loglog(xx, [crect(ff, a, b, h) for h in xx], label = 'center rect')\n",
    "plt.loglog(xx, [simps(ff, a, b, h) for h in xx], label = 'simpson method')\n",
    "plt.legend()"
   ]
  },
  {
   "cell_type": "markdown",
   "metadata": {},
   "source": [
    "### question 3\n",
    "#### Вычислить интеграл $\\int_0^{\\pi^2/4} dx \\,/ \\sin{\\sqrt{x}}$ прямым вычислением и с вычитанием сингулярности. Обсудить скорость сходимости."
   ]
  },
  {
   "cell_type": "code",
   "execution_count": 22,
   "metadata": {},
   "outputs": [
    {
     "name": "stdout",
     "output_type": "stream",
     "text": [
      "crect =  2.0000000074626456\n",
      "simpson =  1.997500104319253\n",
      "scipy =  (1.9999999999999993, 3.973554818514913e-10)\n",
      "-7.46264627871085e-09\n",
      "0.002499895680746267\n",
      "\n",
      "singularity:\n",
      "\n",
      "crect =  2.00000000746265\n",
      "simpson =  1.9975001043192542\n",
      "scipy =  [2.00000000e+00 4.58241898e-09]\n"
     ]
    }
   ],
   "source": [
    "# 1 \n",
    "\n",
    "print('crect = ', crect(lambda x: np.sin(x**0.5), 0, (np.pi**2 / 4), 100000))\n",
    "print('simpson = ', simps(lambda x: np.sin(x**0.5), 0, (np.pi**2 / 4), 100000))\n",
    "print('scipy = ', quad(lambda x: np.sin(x**0.5), 0, (np.pi**2 / 4)))\n",
    "print(quad(lambda x: np.sin(x**0.5), 0, (np.pi**2 / 4))[0] - \\\n",
    "      crect(lambda x: np.sin(x**0.5), 0, (np.pi**2 / 4), 100000))\n",
    "print(quad(lambda x: np.sin(x**0.5), 0, (np.pi**2 / 4))[0] - \\\n",
    "      simps(lambda x: np.sin(x**0.5), 0, (np.pi**2 / 4), 100000))\n",
    "print('\\nsingularity:\\n')\n",
    "\n",
    "print('crect = ', crect(lambda x: (np.sin(x**0.5) - x**0.5) , 0, (np.pi**2 / 4), 100000) + \\\n",
    "     crect(lambda x: (x**0.5) , 0, (np.pi**2 / 4), 100000))  \n",
    "print('simpson = ', simps(lambda x: (np.sin(x**0.5) - x**0.5), 0, (np.pi**2 / 4), 100000) + \\\n",
    "     simps(lambda x: (x**0.5) , 0, (np.pi**2 / 4), 100000))\n",
    "\n",
    "l = quad(lambda x: np.sin(x**0.5) - x**0.5, 0, (np.pi**2 / 4))\n",
    "l = np.asarray(l)\n",
    "s = quad(lambda x: x**0.5, 0, (np.pi**2 / 4))\n",
    "s = np.asarray(s)\n",
    "print('scipy = ', l + s)"
   ]
  },
  {
   "cell_type": "markdown",
   "metadata": {},
   "source": [
    "## question 4\n",
    "### Разработать программу реализующую интегрирование заданной функции методом средних прямоугольников (или иным методом, на выбор) с адаптивной сеткой. Сравнить скорость сходимости данного метода и метода с равномерной сеткой.\n",
    "*Указание: для выбора \"наибольшего\" интервала используйте модуль `heapq` из стандартной библиотеки. (При использовании языка `C++`, используйте `std::set`).* "
   ]
  },
  {
   "cell_type": "code",
   "execution_count": 23,
   "metadata": {},
   "outputs": [
    {
     "name": "stdout",
     "output_type": "stream",
     "text": [
      "center rectangular without adapting: \n",
      "\n",
      "    5 : 0.631068\n",
      "   10 : 0.631857\n",
      "   25 : 0.632078\n",
      "   50 : 0.63211\n",
      "  100 : 0.632118\n",
      "  150 : 0.632119\n",
      "  300 : 0.63212\n",
      "  500 : 0.63212\n",
      " 1000 : 0.632121\n",
      " 2500 : 0.632121\n",
      " 5000 : 0.632121\n",
      " 7500 : 0.632121\n",
      "\n",
      "\n",
      "3.45 ms ± 154 µs per loop (mean ± std. dev. of 7 runs, 100 loops each)\n",
      "\n",
      "\n",
      "\n",
      "center rectangular with adapting: \n",
      "\n",
      "    5 : 0.631244\n",
      "   10 : 0.631862\n",
      "   25 : 0.632074\n",
      "   50 : 0.632109\n",
      "  100 : 0.632117\n",
      "  150 : 0.632119\n",
      "  300 : 0.63212\n",
      "  500 : 0.63212\n",
      " 1000 : 0.632121\n",
      " 2500 : 0.632121\n",
      " 5000 : 0.632121\n",
      " 7500 : 0.632121\n",
      "10000 : 0.632121\n",
      "\n",
      "\n",
      "624 ms ± 11.7 ms per loop (mean ± std. dev. of 7 runs, 1 loop each)\n"
     ]
    }
   ],
   "source": [
    "#  метод средних прямоугольников\n",
    "\n",
    "print('center rectangular without adapting: \\n')\n",
    "for n in (5, 10, 25, 50, 100, 150, 300, 500, 1000, 2500, 5000, 7500):\n",
    "    print(\"%5.5g : %g\" % (n, crect(ff, a, b, n)))\n",
    "\n",
    "print('\\n')\n",
    "%timeit crect(ff, a, b, npts=2500)\n",
    "\n",
    "\n",
    "print('\\n\\n\\ncenter rectangular with adapting: \\n')\n",
    "for n in (5, 10, 25, 50, 100, 150, 300, 500, 1000, 2500, 5000, 7500, 10000):\n",
    "    res, lst = adapt_rect_list(ff, a, b, n)\n",
    "    print (\"%5.5g : %g\" % (n, res))\n",
    "\n",
    "print('\\n')\n",
    "%timeit adapt_rect_list(ff, a, b, npts=2500)"
   ]
  },
  {
   "cell_type": "code",
   "execution_count": 29,
   "metadata": {},
   "outputs": [],
   "source": [
    "adapts=[]\n",
    "withoutadapt=[]\n",
    "x = np.arange(1, 1000, 10)\n",
    "for n in x:\n",
    "    res, lst = adapt_rect_list(f, a, b, n)\n",
    "    adapts.append(abs(2-res))\n",
    "    res2=crect(ff, a, b, n)\n",
    "    withoutadapt.append(abs(2-res2)) #мы знаем, что интеграл от нашей функции f на отрезке [0, 1] равен 2"
   ]
  },
  {
   "cell_type": "code",
   "execution_count": 31,
   "metadata": {},
   "outputs": [
    {
     "data": {
      "text/plain": [
       "<matplotlib.legend.Legend at 0x1a3e4954e80>"
      ]
     },
     "execution_count": 31,
     "metadata": {},
     "output_type": "execute_result"
    },
    {
     "data": {
      "image/png": "[encoded data removed]",
      "text/plain": [
       "<Figure size 720x504 with 1 Axes>"
      ]
     },
     "metadata": {
      "needs_background": "light"
     },
     "output_type": "display_data"
    }
   ],
   "source": [
    "plt.figure(figsize=(10, 7))\n",
    "plt.grid()\n",
    "plt.title('Integrate pressicion', fontsize=30)\n",
    "plt.xlabel('number of steps', fontsize = 20)\n",
    "plt.ylabel('pressicion', fontsize = 20)\n",
    "plt.loglog( x, adapts, \"-\", label='with adaptive' )\n",
    "plt.loglog(x,withoutadapt, \"-\", label='without adaptive' )\n",
    "plt.legend(loc='best')"
   ]
  },
  {
   "cell_type": "code",
   "execution_count": 32,
   "metadata": {},
   "outputs": [
    {
     "data": {
      "text/plain": [
       "<matplotlib.legend.Legend at 0x1a3e491ccf8>"
      ]
     },
     "execution_count": 32,
     "metadata": {},
     "output_type": "execute_result"
    },
    {
     "data": {
      "image/png": "[encoded data removed]",
      "text/plain": [
       "<Figure size 720x504 with 1 Axes>"
      ]
     },
     "metadata": {
      "needs_background": "light"
     },
     "output_type": "display_data"
    }
   ],
   "source": [
    "plt.figure(figsize=(10, 7))\n",
    "plt.grid()\n",
    "plt.title('Integrate pressicion $math.exp(-x)$', fontsize=30)\n",
    "plt.xlabel('number of steps', fontsize = 20)\n",
    "plt.ylabel('pressicion', fontsize = 20)\n",
    "plt.plot( x, adapts, \"-\", label='with adaptive' )\n",
    "plt.plot(x,withoutadapt, \"-\", label='without adaptive' )\n",
    "plt.legend(loc='best')"
   ]
  },
  {
   "cell_type": "markdown",
   "metadata": {},
   "source": [
    "Использование адаптивного метода позволяет быстрее приблизиться к правильному решению: ошибка убывает быстрее, но время требуется больше"
   ]
  },
  {
   "cell_type": "code",
   "execution_count": null,
   "metadata": {},
   "outputs": [],
   "source": []
  }
 ],
 "metadata": {
  "celltoolbar": "Slideshow",
  "kernelspec": {
   "display_name": "Python 3",
   "language": "python",
   "name": "python3"
  },
  "language_info": {
   "codemirror_mode": {
    "name": "ipython",
    "version": 3
   },
   "file_extension": ".py",
   "mimetype": "text/x-python",
   "name": "python",
   "nbconvert_exporter": "python",
   "pygments_lexer": "ipython3",
   "version": "3.7.3"
  }
 },
 "nbformat": 4,
 "nbformat_minor": 1
}
