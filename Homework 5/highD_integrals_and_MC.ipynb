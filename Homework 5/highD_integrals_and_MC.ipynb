{
 "cells": [
  {
   "cell_type": "markdown",
   "metadata": {},
   "source": [
    "# Integration in higher dimensions"
   ]
  },
  {
   "cell_type": "markdown",
   "metadata": {},
   "source": [
    "NB library functions:\n",
    "\n",
    "`from scipy.integrate import dblquad, tplquad, nquad`"
   ]
  },
  {
   "cell_type": "markdown",
   "metadata": {},
   "source": [
    "#### Example: 2D integrals over a rectangular domain\n",
    "\n",
    "$$\n",
    "I[f] = \\int_0^{1}\\!\\int_0^{1}\\! f(x, y)\\, dy\\, dx \\;.\n",
    "$$\n",
    "\n",
    "Use a Gauss-Legendre quadrature (weight function $=1$) for both $x$ and $y$:\n",
    "\n",
    "$$\n",
    "Q[f] = \\sum_{j=0}^{m} \\sum_{k=0}^{n} f(x_j, y_k)\\, w_j^{(x)} \\, w_k^{(y)}\n",
    "$$"
   ]
  },
  {
   "cell_type": "markdown",
   "metadata": {},
   "source": [
    "#### Example: 2D integrals over a triangular domain\n",
    "\n",
    "$$\n",
    "\\begin{aligned}\n",
    "I[f] &= \\int_0^1 \\! \\int_0^{\\color{red}{x}} \\! f(x, y) \\, dy \\, dx \\qquad\\text{change variables } y = tx \\\\\n",
    "     &= \\int_0^1 \\! \\int_0^{\\color{red}{1}} \\! f(x, t\\color{red}{x})\\, \\color{red}{x}\\, dt \\, dx \\\\\n",
    "     &= \\int_0^1\\! \\left(\\int_0^1\\!f(x, tx)\\, dt \\right) x\\,dx\n",
    "\\end{aligned}\n",
    "$$\n",
    "\n",
    "\n",
    "The weight in $t$ is still uniform, so use the Gauss-Legendgre quadrature in $t$. For $x$, http://dlmf.nist.gov/18.3 suggests using the Jacobi quadrature with $\\alpha = 0$ and $\\beta = 1$, after a change of variables $x = (1 + \\xi) / 2$ with $\\xi \\in (-1, 1)$."
   ]
  },
  {
   "cell_type": "markdown",
   "metadata": {},
   "source": [
    "An issue with these sorts of tricks is that they do not easily generalize for non-trivial boundaries."
   ]
  },
  {
   "cell_type": "markdown",
   "metadata": {},
   "source": [
    "# Monte Carlo integration"
   ]
  },
  {
   "cell_type": "markdown",
   "metadata": {},
   "source": [
    "## I. Buffon's needle: compute the volume of a unit sphere "
   ]
  },
  {
   "cell_type": "markdown",
   "metadata": {},
   "source": [
    "The area of a unit circle $\\mathcal{C}$ can be computed as follows:\n",
    "\n",
    "* Consider a unit square $\\mathcal{D}$. Generate $N$ pairs of random numbers with uniform distribution on $\\mathcal{D}$.\n",
    "* For each pair $j$, check if it's inside the circle, calculate the total number of points which are inside, $N_\\mathrm{inside}$.\n",
    "* The estimate for the area of the circle, $\\Omega_\\mathcal{C}$ is given by\n",
    "\n",
    "$$\n",
    "\\frac{\\Omega_\\mathcal{C}}{\\Omega_\\mathcal{D}} \\approx \\frac{N_\\mathrm{inside}}{N}\n",
    "$$\n",
    "\n",
    "and $\\Omega_\\mathcal{C}$ converges to the true area of the circle in the limit of $N\\to\\infty$."
   ]
  },
  {
   "cell_type": "code",
   "execution_count": 1,
   "metadata": {},
   "outputs": [],
   "source": [
    "def inside(x, y, r):\n",
    "    return x**2 + y**2 < r**2"
   ]
  },
  {
   "cell_type": "code",
   "execution_count": 2,
   "metadata": {},
   "outputs": [],
   "source": [
    "import numpy as np\n",
    "from scipy.integrate import nquad\n",
    "import matplotlib.pyplot as plt\n",
    "plt.style.use('ggplot')\n",
    "\n",
    "%matplotlib notebook"
   ]
  },
  {
   "cell_type": "code",
   "execution_count": 3,
   "metadata": {},
   "outputs": [
    {
     "data": {
      "image/png": "[encoded data removed]",
      "text/plain": [
       "<Figure size 432x288 with 1 Axes>"
      ]
     },
     "metadata": {
      "needs_background": "light"
     },
     "output_type": "display_data"
    }
   ],
   "source": [
    "rndm = np.random.RandomState(12345)\n",
    "\n",
    "N = 250000\n",
    "x, y = rndm.uniform(low=-1, high=1, size=(2, N))\n",
    "m = inside(x, y, 1)\n",
    "\n",
    "fig, ax = plt.subplots()\n",
    "ax.plot(x[m], y[m], 'o')\n",
    "ax.plot(x[~m], y[~m], 'o')\n",
    "ax.set_aspect('equal')\n"
   ]
  },
  {
   "cell_type": "code",
   "execution_count": 4,
   "metadata": {},
   "outputs": [
    {
     "data": {
      "text/plain": [
       "3.13448"
      ]
     },
     "execution_count": 4,
     "metadata": {},
     "output_type": "execute_result"
    }
   ],
   "source": [
    "# Now, the estimate for the area is\n",
    "\n",
    "4 * np.count_nonzero(m) / N"
   ]
  },
  {
   "cell_type": "markdown",
   "metadata": {},
   "source": [
    "Note that the result comes as a sum of iid samples, so that the Central Limit Theorem says that the error of the estimate scales as $\\propto 1 / \\sqrt{N}$."
   ]
  },
  {
   "cell_type": "markdown",
   "metadata": {},
   "source": [
    "## II. Integrals of arbitrary functions\n",
    "\n",
    "To generalize the prescription, let's rewrite it in a slightly more general form. Define \n",
    "\n",
    "$$\n",
    "A(\\mathbf{r}) = \\left\\{\n",
    "\\begin{aligned}\n",
    "1,& \\qquad{\\mathbf{r} \\in \\mathcal{C}}\\;, \\\\\n",
    "0,& \\qquad\\text{otherwise}\\;.\n",
    "\\end{aligned}\n",
    "\\right.\n",
    "$$\n",
    "\n",
    "Then the Buffon's needle prescription in $d$ dimensions is\n",
    "\n",
    "$$\n",
    "\\frac{\\int_\\mathcal{D} A(\\mathbf{r})\\, d^d\\mathbf{r}}{\\Omega_D} \\approx \\frac{\\sum_{j} A(\\mathbf{r}_j)}{\\sum_j 1} \\;.\n",
    "$$\n",
    "\n",
    "Here $\\mathbf{r}_j$ are $d$-dimensional vectors drawn from a uniform distribution on $\\mathcal{D}$, the unit hypercube in $d$ dimensions.\n",
    "\n",
    "When written in this form, the prescription is clearly valid for arbitrary $d$ and arbitrary functions $A(\\mathbf{r})$."
   ]
  },
  {
   "cell_type": "markdown",
   "metadata": {},
   "source": [
    "#### Example: calculate\n",
    "\n",
    "$$\n",
    "\\iint_\\limits{x^2 + y^2 < 1}  e^{-(x^2 + y^2)} \\, dx\\, dy \n",
    "$$\n",
    "\n",
    "Here $\\mathcal{C}$ is the inside of a unit circle, $\\{(x, y): x^2 + y^2 < 1 \\}$, and $A(x, y) = e^{-(x^2+y^2)}$.\n",
    "\n",
    "(This example is artificially fine-tuned to ease the comparison with an exact answer, which is $\\pi (1 - e^{-1}).$)"
   ]
  },
  {
   "cell_type": "code",
   "execution_count": 5,
   "metadata": {},
   "outputs": [],
   "source": [
    "def func(x, y):\n",
    "    r2 = x**2 + y**2\n",
    "    return np.exp(-r2)"
   ]
  },
  {
   "cell_type": "code",
   "execution_count": 6,
   "metadata": {},
   "outputs": [],
   "source": [
    "def sample(N, r=1):\n",
    "    N = int(N)\n",
    "    x, y = rndm.uniform(low=-1, high=1, size=(2, N))\n",
    "    accepted = inside(x, y, r)\n",
    "    denom = accepted.sum()\n",
    "    return np.sum(func(x[accepted], y[accepted]) / N) * 4, denom"
   ]
  },
  {
   "cell_type": "code",
   "execution_count": 7,
   "metadata": {},
   "outputs": [
    {
     "name": "stdout",
     "output_type": "stream",
     "text": [
      "     100  1.894516  1.985865 -0.0913491\n",
      "    1000  1.941144  1.985865 -0.0447214\n",
      "   10000  2.001333  1.985865 0.0154675\n",
      "  100000  1.983805  1.985865 -0.00205993\n",
      " 1000000  1.988014  1.985865 0.00214917\n",
      "10000000  1.985901  1.985865 3.6029e-05\n",
      "100000000  1.985845  1.985865 -2.07565e-05\n"
     ]
    }
   ],
   "source": [
    "answer = np.pi * (1. - 1./np.e)\n",
    "\n",
    "np.random.seed(12)\n",
    "\n",
    "for n in [100, 1000, 10000, 100000, 1e6, 1e7, 1e8]:\n",
    "    res = sample(n)\n",
    "    err = res[0] - answer\n",
    "    print(\"%8d  %.7g  %.7g %g\" % (n, res[0], answer, err))"
   ]
  },
  {
   "cell_type": "markdown",
   "metadata": {},
   "source": [
    "To improve convergence, we can either aim to sample the space *more* uniformly, or *less* uniformly."
   ]
  },
  {
   "cell_type": "markdown",
   "metadata": {},
   "source": [
    "## III. Quasi-random numbers: Sobol, Halton sequences"
   ]
  },
  {
   "cell_type": "markdown",
   "metadata": {},
   "source": [
    "Instead of drawing random variates, use special *low-discrepancy sequences* which intend to cover the volume in a uniform manner."
   ]
  },
  {
   "cell_type": "markdown",
   "metadata": {},
   "source": [
    "Here's one implementation: In terminal, type \n",
    "\n",
    "`pip install sobol_seq --user`"
   ]
  },
  {
   "cell_type": "code",
   "execution_count": 8,
   "metadata": {},
   "outputs": [],
   "source": [
    "import sobol_seq"
   ]
  },
  {
   "cell_type": "code",
   "execution_count": 9,
   "metadata": {},
   "outputs": [
    {
     "data": {
      "text/plain": [
       "<function sobol_seq.sobol_seq.i4_sobol_generate(dim_num, n, skip=1)>"
      ]
     },
     "execution_count": 9,
     "metadata": {},
     "output_type": "execute_result"
    }
   ],
   "source": [
    "sobol_seq.i4_sobol_generate"
   ]
  },
  {
   "cell_type": "code",
   "execution_count": 10,
   "metadata": {},
   "outputs": [
    {
     "data": {
      "text/plain": [
       "array([[0.5  , 0.5  ],\n",
       "       [0.75 , 0.25 ],\n",
       "       [0.25 , 0.75 ],\n",
       "       [0.375, 0.375],\n",
       "       [0.875, 0.875]])"
      ]
     },
     "execution_count": 10,
     "metadata": {},
     "output_type": "execute_result"
    }
   ],
   "source": [
    "sobol_seq.i4_sobol_generate(2, 5)"
   ]
  },
  {
   "cell_type": "code",
   "execution_count": 11,
   "metadata": {},
   "outputs": [
    {
     "data": {
      "image/png": "[encoded data removed]",
      "text/plain": [
       "<Figure size 432x288 with 6 Axes>"
      ]
     },
     "metadata": {
      "needs_background": "light"
     },
     "output_type": "display_data"
    }
   ],
   "source": [
    "nn = [[15, 51, 151], [251, 521, 1001]]\n",
    "\n",
    "fig, axx = plt.subplots(2, 3)\n",
    "\n",
    "for i in (0, 1):\n",
    "    for j in (0, 1, 2):\n",
    "        N = nn[i][j]\n",
    "        ax = axx[i][j]\n",
    "        x = sobol_seq.i4_sobol_generate(2, N)\n",
    "        ax.plot(x[:, 0], x[:, 1], 'o', label = \"N = %s\" % N, ms=4, mec='none')"
   ]
  },
  {
   "cell_type": "markdown",
   "metadata": {},
   "source": [
    "## IV. Non-uniform distributions"
   ]
  },
  {
   "cell_type": "markdown",
   "metadata": {},
   "source": [
    "If the integral has sharp peaks, both *Buffon needle II* and quasi-random based methods can be converging slowly.\n",
    "If the integral is over an infinite range, they simply break down. "
   ]
  },
  {
   "cell_type": "markdown",
   "metadata": {},
   "source": [
    "Note that in *Buffon needle II*, the integral in the left-hand side contains the *probability density of a uniform distribution on $\\mathcal{D}$*\n",
    "\n",
    "$$\n",
    "w_\\mathrm{uniform}(\\mathbf{r}) = \\frac{1}{\\Omega_D} d^d\\mathbf{r}\n",
    "$$\n",
    "\n",
    "This suggests introducing a probability density $w(\\mathbf{r})$, and rewriting the target integral via\n",
    "\n",
    "$$\n",
    "\\int_\\mathcal{D} A(\\mathbf{r})\\,d^d\\mathbf{r} \\equiv\n",
    "\\int_\\mathcal{D} \\frac{A(\\mathbf{r}) }{ w(\\mathbf{r})} \\,\\color{red}{w(\\mathbf{r})\\, d^d\\mathbf{r}} \\;.\n",
    "$$\n",
    "\n",
    "Now, if the sequence of $\\{ \\mathbf{r}_j\\}$, $j=1, \\dots, N$, *is drawn from the distribution $w(\\mathbf{r})$*, then\n",
    "\n",
    "$$\n",
    "\\int_\\mathcal{D} A(\\mathbf{r})\\,d^d\\mathbf{r} \\approx \\frac{\\sum_j A(\\mathbf{r}_j)\\, /\\, w(\\mathbf{r}_j)}{\\sum_j 1}\n",
    "$$"
   ]
  },
  {
   "cell_type": "markdown",
   "metadata": {},
   "source": [
    "#### Example\n",
    "\n",
    "$$\n",
    "\\int_0^\\infty \\! x^3 e^{-x} \\, dx = \\text{?}\n",
    "$$\n",
    "\n",
    "Here we take $w(x) \\propto e^{-x}$ on $x \\in [0, \\infty)$, and $A(x) = x^3$"
   ]
  },
  {
   "cell_type": "code",
   "execution_count": 12,
   "metadata": {},
   "outputs": [
    {
     "name": "stdout",
     "output_type": "stream",
     "text": [
      "   10000  6.12337\n",
      "  100000  5.97928\n",
      "   1e+06  6.00973\n",
      "   1e+07  6.00365\n"
     ]
    }
   ],
   "source": [
    "for n in (1e4, 1e5, 1e6, 1e7):\n",
    "    nn = int(n)\n",
    "    x = np.random.exponential(size=nn)\n",
    "    res = (x**3).sum() / n\n",
    "    print(\"%8g  %.6g\" % (nn, res))"
   ]
  },
  {
   "cell_type": "markdown",
   "metadata": {},
   "source": [
    "### How to draw variates given a probability density function?"
   ]
  },
  {
   "cell_type": "markdown",
   "metadata": {},
   "source": [
    "#### Rejection method\n",
    "\n",
    "This is basically the Buffon's needle again: Given a p.d.f., $w(\\mathbf{r})$, for $d$-dimensional variables, draw $d$ uniform variates, $\\mathbf{r}$, and an extra one, $y$, uniform on $[0, 1)$. Compare $y$ and $w(\\mathbf{r})$. If $y > w(\\mathbf{r})$, *reject* it and draw again. Otherwise, return $\\mathbf{r}$. "
   ]
  },
  {
   "cell_type": "markdown",
   "metadata": {},
   "source": [
    "#### Inversion method ($d=1$)\n",
    "\n",
    "Draw $r$ uniform on  $[0, 1)$. Then invert the cumulative distribution function, `cdf`: find $x$ such that \n",
    "\n",
    "$$\n",
    "\\mathrm{cdf}(x) = r\\;.\n",
    "$$ \n"
   ]
  },
  {
   "cell_type": "markdown",
   "metadata": {},
   "source": [
    "##### Example\n",
    "\n",
    "Draw variates from the standard exponential distribution $w(x) \\propto \\exp(-\\lambda x)$ for $x \\in [0, \\infty)$."
   ]
  },
  {
   "cell_type": "markdown",
   "metadata": {},
   "source": [
    "Doing the integrals, we find\n",
    "\n",
    "$$\n",
    "\\mathrm{cdf}(x) = A \\int_0^x\\! e^{-\\lambda x }\\, dx = A \\frac{1 - e^{-\\lambda x}}{\\lambda} \\;,\n",
    "$$\n",
    "\n",
    "where $A$ is the normalization constant, for which we find $A = \\lambda$ since $\\mathrm{cdf}(\\infty) = 1$.\n",
    "\n",
    "This way, we find \n",
    "\n",
    "$$\n",
    "x = -\\frac{1}{\\lambda} \\ln(1 - r) \\;.\n",
    "$$\n",
    "\n",
    "Note that, strictly speaking, we cannot replace $1 - r$ by $r$ since that would be problematic at $r=0$."
   ]
  },
  {
   "cell_type": "code",
   "execution_count": 13,
   "metadata": {},
   "outputs": [
    {
     "data": {
      "text/plain": [
       "(array([1.03209925, 0.92866926, 1.04750372, 0.99028713, 1.02549733,\n",
       "        1.0232967 , 0.98808649, 0.92646862, 1.0409018 , 0.96387947,\n",
       "        0.98148457, 0.99028713, 0.97048138, 0.94627436, 0.94407373,\n",
       "        1.06730946, 1.08491456, 0.99248776, 1.00349095, 1.04970435,\n",
       "        1.01889542, 0.99028713]),\n",
       " array([1.10427324e-04, 4.55517936e-02, 9.09931599e-02, 1.36434526e-01,\n",
       "        1.81875892e-01, 2.27317259e-01, 2.72758625e-01, 3.18199991e-01,\n",
       "        3.63641358e-01, 4.09082724e-01, 4.54524090e-01, 4.99965456e-01,\n",
       "        5.45406823e-01, 5.90848189e-01, 6.36289555e-01, 6.81730922e-01,\n",
       "        7.27172288e-01, 7.72613654e-01, 8.18055020e-01, 8.63496387e-01,\n",
       "        9.08937753e-01, 9.54379119e-01, 9.99820486e-01]),\n",
       " <a list of 22 Patch objects>)"
      ]
     },
     "execution_count": 13,
     "metadata": {},
     "output_type": "execute_result"
    },
    {
     "data": {
      "image/png": "[encoded data removed]",
      "text/plain": [
       "<Figure size 432x288 with 1 Axes>"
      ]
     },
     "metadata": {
      "needs_background": "light"
     },
     "output_type": "display_data"
    }
   ],
   "source": [
    "r = np.random.uniform(size=10000)\n",
    "plt.hist(r, bins='auto', density=True)"
   ]
  },
  {
   "cell_type": "code",
   "execution_count": 14,
   "metadata": {},
   "outputs": [
    {
     "data": {
      "text/plain": [
       "(0, 3)"
      ]
     },
     "execution_count": 14,
     "metadata": {},
     "output_type": "execute_result"
    },
    {
     "data": {
      "image/png": "[encoded data removed]",
      "text/plain": [
       "<Figure size 432x288 with 1 Axes>"
      ]
     },
     "metadata": {
      "needs_background": "light"
     },
     "output_type": "display_data"
    }
   ],
   "source": [
    "x = -0.5 * np.log(1 - r)\n",
    "plt.hist(x, bins='auto', density=True)\n",
    "\n",
    "xx = np.linspace(x.min(), x.max(), 101)\n",
    "plt.plot(xx, 2.0 * np.exp(-2*xx), '-', lw=4, alpha=0.8)\n",
    "\n",
    "plt.xlim([0, 3])"
   ]
  },
  {
   "cell_type": "markdown",
   "metadata": {},
   "source": [
    "# Excercises"
   ]
  },
  {
   "cell_type": "markdown",
   "metadata": {},
   "source": [
    "### Excercise 1\n",
    "\n",
    "Use the Sobol sequence to calculate the value of\n",
    "$$\n",
    "\\iint\\limits_D e^{-(x^2 + y^2)} \\, dx\\, dy  \\;,\n",
    "$$\n",
    "where $D$ is the unit square. Compare to the exact answer (which can be expressed in terms of the error function)."
   ]
  },
  {
   "cell_type": "code",
   "execution_count": 15,
   "metadata": {},
   "outputs": [
    {
     "name": "stdout",
     "output_type": "stream",
     "text": [
      "2.4261226388505337\n",
      "(2.2309851414041346, 2.476891071583481e-14)\n",
      "2.2309851414041346\n",
      "      10  2.236727  2.230985 0.00574235\n",
      "     100  2.239637  2.230985 0.00865141\n",
      "    1000  2.23165  2.230985 0.000664546\n",
      "   10000  2.231259  2.230985 0.000274129\n",
      "  100000  2.230992  2.230985 7.34365e-06\n",
      " 1000000  2.230988  2.230985 3.12049e-06\n",
      "10000000  2.230986  2.230985 3.89291e-07\n"
     ]
    }
   ],
   "source": [
    "def f(x, y):\n",
    "    r2 = x**2 + y**2\n",
    "    return np.exp(-r2)\n",
    "\n",
    "\n",
    "def sample1(N):\n",
    "    N = int(N)\n",
    "    x = sobol_seq.i4_sobol_generate(2, N)\n",
    "    I = np.sum(f(x[:,0], x[:,1])) / N * 4\n",
    "    return I\n",
    "\n",
    "print(sample(1))\n",
    "\n",
    "\n",
    "\n",
    "answer = nquad(f, [[-1, 1], [-1, 1]])\n",
    "print(answer)\n",
    "answer_real = answer[0]\n",
    "print(answer_real)\n",
    "\n",
    "for n in [10, 100, 1000, 10000, 100000, 1e6, 1e7]:\n",
    "    res = sample(n)\n",
    "    err = res - answer_real\n",
    "    print(\"%8d  %.7g  %.7g %g\" % (n, res, answer_real, err))\n",
    "\n"
   ]
  },
  {
   "cell_type": "markdown",
   "metadata": {},
   "source": [
    "Paste the difference between the exact answer and calculated value of the integral in the respective field in Google Form when $N = 10^7$."
   ]
  },
  {
   "cell_type": "markdown",
   "metadata": {},
   "source": [
    "### Excercise 2\n",
    "\n",
    "Generate variates from the distribution $w(x) \\propto \\sqrt{1 - x^2}$ on $x\\in (-1, 1)$ using the rejection method."
   ]
  },
  {
   "cell_type": "code",
   "execution_count": 77,
   "metadata": {},
   "outputs": [
    {
     "name": "stdout",
     "output_type": "stream",
     "text": [
      "0.3458184941167517\n"
     ]
    },
    {
     "data": {
      "text/plain": [
       "[<matplotlib.lines.Line2D at 0x21bbe988d68>]"
      ]
     },
     "execution_count": 77,
     "metadata": {},
     "output_type": "execute_result"
    },
    {
     "data": {
      "image/png": "[encoded data removed]",
      "text/plain": [
       "<Figure size 432x288 with 1 Axes>"
      ]
     },
     "metadata": {
      "needs_background": "light"
     },
     "output_type": "display_data"
    }
   ],
   "source": [
    "n = 10000\n",
    "r = np.random.uniform(low=-1, high=1, size=n)\n",
    "print(r[-1])\n",
    "\n",
    "R = (1 - x**2)**0.5\n",
    "\n",
    "plt.hist(R, bins='auto', density=True)\n",
    "xx = np.linspace(R.min(), R.max(), 1000)  #  нет отрицательной части\n",
    "plt.plot(xx, (1 - xx**2)**0.5, '--', lw=5)"
   ]
  },
  {
   "cell_type": "markdown",
   "metadata": {},
   "source": [
    "Write a function for finding $\\int_{-1}^1 \\! \\sqrt{1-x^2} \\left( 1 - x \\right) dx$."
   ]
  },
  {
   "cell_type": "code",
   "execution_count": 84,
   "metadata": {},
   "outputs": [
    {
     "name": "stdout",
     "output_type": "stream",
     "text": [
      "      10  1.650338734\n",
      "     100  1.551762318\n",
      "    1000  1.597186523\n",
      "   10000  1.572339021\n",
      "  100000  1.572144127\n",
      "   1e+06  1.57132283\n",
      "   1e+07  1.571015868\n"
     ]
    }
   ],
   "source": [
    "def I(a, b, N):\n",
    "    N = int(N)\n",
    "    r = np.random.uniform(low=a, high=b, size=N)\n",
    "    x = (1 - r**2)**0.5 * (1 - r)\n",
    "    I = np.sum(x) / N * (b - a)\n",
    "    return I\n",
    "\n",
    "for n in (10, 100, 1000, 10000, 100000, 1e6, 1e7):\n",
    "    print(\"%8g  %.10g\" % (n, I(-1, 1, n)))"
   ]
  },
  {
   "cell_type": "markdown",
   "metadata": {},
   "source": [
    "Paste the value of the integral in the respective field in Google Form when $N = 10^7$."
   ]
  },
  {
   "cell_type": "markdown",
   "metadata": {},
   "source": [
    "### Excercise 3\n",
    "\n",
    "Generate variates from the distribution $w(x) \\propto \\exp(-\\lambda x)$ on $x \\in [a, b]$."
   ]
  },
  {
   "cell_type": "code",
   "execution_count": 101,
   "metadata": {},
   "outputs": [
    {
     "name": "stdout",
     "output_type": "stream",
     "text": [
      "[-0.76277779  0.0160767 ]\n"
     ]
    },
    {
     "data": {
      "text/plain": [
       "(0, 3)"
      ]
     },
     "execution_count": 101,
     "metadata": {},
     "output_type": "execute_result"
    },
    {
     "data": {
      "image/png": "[encoded data removed]",
      "text/plain": [
       "<Figure size 432x288 with 1 Axes>"
      ]
     },
     "metadata": {
      "needs_background": "light"
     },
     "output_type": "display_data"
    }
   ],
   "source": [
    "def w(x, L):\n",
    "    return np.e**(-L * x)\n",
    "\n",
    "def generate_x(N, L, a, b):\n",
    "    N = int(N)\n",
    "    y = np.random.uniform(size=N)\n",
    "    x = np.random.uniform(a, b, N)\n",
    "    x = x[w(x, L) >= y]\n",
    "    return x\n",
    "print(generate_x(2, 5, -1, 1))\n",
    "x = generate_x(1e7, 5, 0, 3)\n",
    "plt.hist(x, bins='auto', density=True)\n",
    "\n",
    "\n",
    "plt.xlim([0, 3])"
   ]
  },
  {
   "cell_type": "markdown",
   "metadata": {},
   "source": [
    "Write a function for finding $\\int_0^\\infty \\! x^3 e^{- \\lambda x}$."
   ]
  },
  {
   "cell_type": "code",
   "execution_count": 97,
   "metadata": {},
   "outputs": [
    {
     "name": "stdout",
     "output_type": "stream",
     "text": [
      "      10  0.0006561967452\n",
      "     100  0.002467309414\n",
      "    1000  0.005419627424\n",
      "   10000  0.00694314814\n",
      "  100000  0.006962773778\n",
      "   1e+06  0.007048558205\n",
      "   1e+07  0.007031318131\n"
     ]
    }
   ],
   "source": [
    "\n",
    "\n",
    "def I3(N, L):\n",
    "    N = int(N)\n",
    "    x = generate_x(N, 5, 0, 1)\n",
    "    I3 = np.sum(x ** 3) / N\n",
    "    return I3\n",
    "\n",
    "\n",
    "for n in (10, 100, 1000, 10000, 100000, 1e6, 1e7):\n",
    "    print(\"%8g  %.10g\" % (n, I3(n, 5)))"
   ]
  },
  {
   "cell_type": "markdown",
   "metadata": {},
   "source": [
    "Paste the value of the integral in the respective field in Google Form when $N = 10^7$ and $\\lambda = 5$."
   ]
  }
 ],
 "metadata": {
  "kernelspec": {
   "display_name": "Python 3",
   "language": "python",
   "name": "python3"
  },
  "language_info": {
   "codemirror_mode": {
    "name": "ipython",
    "version": 3
   },
   "file_extension": ".py",
   "mimetype": "text/x-python",
   "name": "python",
   "nbconvert_exporter": "python",
   "pygments_lexer": "ipython3",
   "version": "3.7.3"
  }
 },
 "nbformat": 4,
 "nbformat_minor": 1
}
